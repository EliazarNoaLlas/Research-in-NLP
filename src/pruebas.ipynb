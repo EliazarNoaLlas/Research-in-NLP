{
 "cells": [
  {
   "cell_type": "code",
   "id": "initial_id",
   "metadata": {
    "collapsed": true,
    "ExecuteTime": {
     "end_time": "2025-09-19T21:39:32.356177Z",
     "start_time": "2025-09-19T21:39:32.309106Z"
    }
   },
   "source": [
    "import os\n",
    "import pandas as pd\n",
    "\n",
    "# Directorio actual de este script\n",
    "CURRENT_DIR = os.getcwd()  # O os.path.dirname(os.path.abspath(__file__)) en scripts normales\n",
    "\n",
    "# Construir ruta relativa subiendo un nivel y entrando en data/raw\n",
    "csv_path = os.path.join(CURRENT_DIR, \"..\", \"data\", \"raw\", \"SB_publication_PMC.csv\")\n",
    "csv_path = os.path.abspath(csv_path)  # Convertir a ruta absoluta\n",
    "\n",
    "# Leer CSV\n",
    "df = pd.read_csv(csv_path, encoding='utf-8')\n",
    "print(df.head())\n"
   ],
   "outputs": [
    {
     "name": "stdout",
     "output_type": "stream",
     "text": [
      "                                               Title  \\\n",
      "0  Mice in Bion-M 1 space mission: training and s...   \n",
      "1  Microgravity induces pelvic bone loss through ...   \n",
      "2  Stem Cell Health and Tissue Regeneration in Mi...   \n",
      "3  Microgravity Reduces the Differentiation and R...   \n",
      "4  Microgravity validation of a novel system for ...   \n",
      "\n",
      "                                                Link  \n",
      "0  https://www.ncbi.nlm.nih.gov/pmc/articles/PMC4...  \n",
      "1  https://www.ncbi.nlm.nih.gov/pmc/articles/PMC3...  \n",
      "2  https://www.ncbi.nlm.nih.gov/pmc/articles/PMC1...  \n",
      "3  https://www.ncbi.nlm.nih.gov/pmc/articles/PMC7...  \n",
      "4  https://www.ncbi.nlm.nih.gov/pmc/articles/PMC5...  \n"
     ]
    }
   ],
   "execution_count": 4
  }
 ],
 "metadata": {
  "kernelspec": {
   "display_name": "Python 3",
   "language": "python",
   "name": "python3"
  },
  "language_info": {
   "codemirror_mode": {
    "name": "ipython",
    "version": 2
   },
   "file_extension": ".py",
   "mimetype": "text/x-python",
   "name": "python",
   "nbconvert_exporter": "python",
   "pygments_lexer": "ipython2",
   "version": "2.7.6"
  }
 },
 "nbformat": 4,
 "nbformat_minor": 5
}
